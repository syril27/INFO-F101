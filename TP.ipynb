{
  "nbformat": 4,
  "nbformat_minor": 0,
  "metadata": {
    "colab": {
      "provenance": [],
      "authorship_tag": "ABX9TyO3eFry42mr5AjgkjdayNwZ",
      "include_colab_link": true
    },
    "kernelspec": {
      "name": "python3",
      "display_name": "Python 3"
    },
    "language_info": {
      "name": "python"
    }
  },
  "cells": [
    {
      "cell_type": "markdown",
      "metadata": {
        "id": "view-in-github",
        "colab_type": "text"
      },
      "source": [
        "<a href=\"https://colab.research.google.com/github/syril27/INFO-F101/blob/main/TP.ipynb\" target=\"_parent\"><img src=\"https://colab.research.google.com/assets/colab-badge.svg\" alt=\"Open In Colab\"/></a>"
      ]
    },
    {
      "cell_type": "markdown",
      "source": [
        "#<u>**Programmation : TP**</u>\n",
        "---\n"
      ],
      "metadata": {
        "id": "U9JC7jyBdT6z"
      }
    },
    {
      "cell_type": "markdown",
      "source": [
        "##<u> **TP 1** <u/> (22/09)\n",
        "\n",
        "\n",
        "\n",
        "\n",
        "\n",
        "\n"
      ],
      "metadata": {
        "id": "SZtC8qlNdZz3"
      }
    },
    {
      "cell_type": "markdown",
      "source": [
        "#Variables & Opérateurs\n",
        "\n",
        "## Variables\n",
        "\n",
        "* Une variable est un conteneur qui stocke une valeur.\n",
        "* Types courants :\n",
        "\n",
        "  * `int` → entier (ex. `x = 10`)\n",
        "  * `float` → nombre à virgule (ex. `y = 3.14`)\n",
        "  * `str` → chaîne de caractères (ex. `name = \"Alice\"`)\n",
        "\n",
        "Attention : l’indentation est importante en Python, chaque ligne doit être bien alignée.\n",
        "\n",
        "\n",
        "\n",
        "## Exemple\n",
        "\n",
        "```python\n",
        "x = 10        # int\n",
        "y = 3.14      # float\n",
        "name = \"Alice\"  # str\n",
        "\n",
        "print(x, y, name)\n",
        "```\n",
        "\n",
        "\n",
        "## Opérateurs principaux\n",
        "\n",
        "* Addition : `+`\n",
        "* Soustraction : `-`\n",
        "* Multiplication : `*`\n",
        "* Division : `/`\n",
        "* Division entière : `//`\n",
        "* Modulo (reste de la division) : `%`\n",
        "* Exponentiation : `**`\n",
        "\n",
        "\n"
      ],
      "metadata": {
        "id": "F5hmwQBrfOuj"
      }
    },
    {
      "cell_type": "markdown",
      "source": [
        "---\n",
        "#Exercices\n"
      ],
      "metadata": {
        "id": "yZpQMxdEg2ZR"
      }
    },
    {
      "cell_type": "markdown",
      "source": [
        "## Exercice 1.6\n",
        "\n",
        "Créez un fichier volume_sphere.py dans lequel vous écrivez un programme qui calcule le volume d’une sphère de rayon 5, puis de rayon 8. Le volume d’une sphère de rayon r est donné par 4/3pir3.\n",
        "\n",
        "Affichez le résultat à l’écran à l’aide de la fonction print. Vous pouvez utiliser une valeur approchée de pi"
      ],
      "metadata": {
        "id": "jrZTEtV0eFT0"
      }
    },
    {
      "cell_type": "code",
      "source": [
        "r  = 5\n",
        "pi = 3.14\n",
        "\n",
        "print(4/3*pi*r**3)\n",
        "\n",
        "r  = 8\n",
        "\n",
        "print(4/3*pi*r**3)"
      ],
      "metadata": {
        "colab": {
          "base_uri": "https://localhost:8080/"
        },
        "id": "hpdoqvFidgq-",
        "outputId": "48f3322f-ffd5-4856-b0c9-4c85c139bd27"
      },
      "execution_count": null,
      "outputs": [
        {
          "output_type": "stream",
          "name": "stdout",
          "text": [
            "523.3333333333334\n",
            "2143.5733333333333\n"
          ]
        }
      ]
    },
    {
      "cell_type": "markdown",
      "source": [
        "## Exercice 1.7\n",
        "\n",
        "Écrivez un programme calcul_vitesse.py qui calcule votre vitesse moyenne en kilomètre par heure si vous parcourez 10 kilomètres en 45 minutes, puis si vous parcourez 10 kilomètres en 43 minutes et 30 secondes.\n",
        "\n",
        "Affichez le résultat à l’écran.Ensuite, convertissez ces mêmes vitesses en miles par heure. Pour rappel, 1,61 km = 1 mile."
      ],
      "metadata": {
        "id": "FluF-EX5eFMP"
      }
    },
    {
      "cell_type": "code",
      "source": [
        "d = 10\n",
        "t = 45\n",
        "x  = d / t * 60\n",
        "print(x)\n",
        "\n",
        "\n",
        "d = 10\n",
        "t = 43.5\n",
        "x  = d / t * 60\n",
        "print(x)"
      ],
      "metadata": {
        "colab": {
          "base_uri": "https://localhost:8080/"
        },
        "id": "PS-OtjKeeEbz",
        "outputId": "3bc8bbca-d4b2-41b4-a281-0d794d2e9041"
      },
      "execution_count": null,
      "outputs": [
        {
          "output_type": "stream",
          "name": "stdout",
          "text": [
            "13.333333333333332\n",
            "13.793103448275861\n"
          ]
        }
      ]
    },
    {
      "cell_type": "markdown",
      "source": [
        "## Exercice 1.8\n",
        "\n",
        "L’édition complète de la série «Les contes de Chuck Norris» est composée de 3486 volumes (numérotés de 1 à 3486) et se trouve dans ses armoires numérotées dans l’ordre.\n",
        "\n",
        "Si chaque armoire peut contenir au plus 89 livres, dans laquelle se trouve le volume numéro 1024 ? Dans quelle armoire se trouverait le volume 404 si chacune pouvait contenir 91 livres ?"
      ],
      "metadata": {
        "id": "tXfOc9sjeFbE"
      }
    },
    {
      "cell_type": "code",
      "source": [
        "livres_par_armoire = 89\n",
        "\n",
        "livre_a_trouver = 1024\n",
        "\n",
        "print(livre_a_trouver//livres_par_armoire)"
      ],
      "metadata": {
        "colab": {
          "base_uri": "https://localhost:8080/"
        },
        "id": "ksZrXUmgeFAh",
        "outputId": "52325d36-3388-469d-e5a9-ff39543ec922"
      },
      "execution_count": null,
      "outputs": [
        {
          "output_type": "stream",
          "name": "stdout",
          "text": [
            "11\n"
          ]
        }
      ]
    },
    {
      "cell_type": "markdown",
      "source": [
        "---\n"
      ],
      "metadata": {
        "id": "moh6r_kLgSVa"
      }
    },
    {
      "cell_type": "markdown",
      "source": [
        "##<u> **TP 2** <u/> (24/09)\n",
        "\n",
        "\n",
        "\n",
        "\n",
        "\n",
        "\n"
      ],
      "metadata": {
        "id": "MVPeG-R6WWAA"
      }
    },
    {
      "cell_type": "markdown",
      "source": [
        "\n",
        "\n",
        "\n",
        "# Booléens et conditions\n",
        "\n",
        "## Type booléen\n",
        "\n",
        "* Une variable booléenne peut prendre deux valeurs : `True` ou `False`.\n",
        "\n",
        "Exemple :\n",
        "\n",
        "```python\n",
        "x = True\n",
        "y = False\n",
        "```\n",
        "\n",
        "### Conversion avec `bool()`\n",
        "\n",
        "* `bool(0)` → `False`\n",
        "* `bool(n)` (si `n ≠ 0`) → `True`\n",
        "\n",
        "```python\n",
        "x = bool(10)  # True\n",
        "y = bool(0)   # False\n",
        "```\n",
        "\n",
        "## Comparaisons\n",
        "\n",
        "* Les booléens apparaissent naturellement lors de comparaisons.\n",
        "\n",
        "Exemple :\n",
        "\n",
        "```python\n",
        "x = 25\n",
        "y = 42\n",
        "z = x < y\n",
        "print(z)  # True\n",
        "```\n",
        "\n",
        "* Opérateurs disponibles : `<`, `>`, `<=`, `>=`, `==`, `!=`\n",
        "\n",
        "## Assignation vs comparaison\n",
        "\n",
        "* `=` : assignation\n",
        "* `==` : comparaison\n",
        "\n",
        "Exemple :\n",
        "\n",
        "```python\n",
        "a = 10.5\n",
        "b = 11.0\n",
        "c = a == b\n",
        "d = a = b\n",
        "\n",
        "print(c)  # False\n",
        "print(d)  # 11.0\n",
        "```\n",
        "\n",
        "## Connecteurs logiques\n",
        "\n",
        "* `and` : vrai si les deux sont vrais\n",
        "* `or` : vrai si au moins un est vrai\n",
        "* `not` : inverse le résultat\n",
        "\n",
        "Exemple :\n",
        "\n",
        "```python\n",
        "x = 25\n",
        "y = 42\n",
        "z = x < y and x > 0\n",
        "print(z)       # True\n",
        "print(not z)   # False\n",
        "```\n",
        "\n",
        "## Instruction `if`\n",
        "\n",
        "### Syntaxe\n",
        "\n",
        "```python\n",
        "if condition:\n",
        "    code_true\n",
        "```\n",
        "\n",
        "### Exemple\n",
        "\n",
        "```python\n",
        "x = int(input(\"Entrez un entier : \"))\n",
        "if x % 2 == 1:\n",
        "    print(x, \"est un nombre impair\")\n",
        "print(\"Fin du programme\")\n",
        "```\n",
        "\n",
        "## Instruction `elif`\n",
        "\n",
        "### Syntaxe\n",
        "\n",
        "```python\n",
        "if condition:\n",
        "    code_true\n",
        "elif condition2:\n",
        "    code_true2\n",
        "```\n",
        "\n",
        "### Exemple\n",
        "\n",
        "```python\n",
        "x = int(input(\"Entrez un entier : \"))\n",
        "if x == 0:\n",
        "    print(f\"x={x} est nul\")\n",
        "elif x % 2 == 0:\n",
        "    print(f\"x={x} est un nombre pair\")\n",
        "```\n",
        "\n",
        "## Instruction `else`\n",
        "\n",
        "### Syntaxe\n",
        "\n",
        "```python\n",
        "if condition1:\n",
        "    code1\n",
        "elif condition2:   # facultatif\n",
        "    code2\n",
        "else:\n",
        "    code_else\n",
        "```\n",
        "\n",
        "### Exemple\n",
        "\n",
        "```python\n",
        "x = int(input(\"Encoder un entier : \"))\n",
        "if x == 0:\n",
        "    print(x, \"est égal à 0\")\n",
        "elif x < 0:\n",
        "    print(x, \"est inférieur à 0\")\n",
        "else:\n",
        "    print(x, \"est supérieur à 0\")\n",
        "```\n",
        "\n",
        "---\n",
        "\n"
      ],
      "metadata": {
        "id": "WrAYw63MVXfG"
      }
    },
    {
      "cell_type": "markdown",
      "source": [
        "\n",
        "#Exercices"
      ],
      "metadata": {
        "id": "-WdJCDiFWr48"
      }
    },
    {
      "cell_type": "markdown",
      "source": [
        "## Exercice 2.1\n",
        "\n",
        "Écrivez un programme qui lit deux nombres au clavier avec input, les transforme en entier avec int et qui affiche leur somme. Si la somme des deux nombres est 0, le programme affiche le message “Un parfait équilibre !”"
      ],
      "metadata": {
        "id": "SDKST_c8WxNV"
      }
    },
    {
      "cell_type": "code",
      "source": [
        "a = int(input(\"Entrer un premier nombre : \"))\n",
        "b = int(input(\"Entrer un deuxieme nombre : \"))\n",
        "\n",
        "sum = a + b\n",
        "print(sum)\n",
        "\n",
        "if sum == 0:\n",
        "    print(\"Un parfait equilibre\")"
      ],
      "metadata": {
        "id": "dtv21bjMXDNi"
      },
      "execution_count": null,
      "outputs": []
    },
    {
      "cell_type": "markdown",
      "source": [
        "## Exercice 2.2\n",
        "\n",
        "Écrivez un programme qui lit 3 nombres entiers. Si au moins deux nombres d’entre eux ont la même valeur, le programme affiche cette valeur. Le programme n’imprime rien dans le cas contraire."
      ],
      "metadata": {
        "id": "cT_Y7kffXEKP"
      }
    },
    {
      "cell_type": "code",
      "source": [
        "a = int(input(\"Entrer un premier nombre : \"))\n",
        "b = int(input(\"Entrer un deuxieme nombre : \"))\n",
        "c = int(input(\"Entrer un troisieme nombre : \"))\n",
        "\n",
        "if a == b:\n",
        "    print(a)\n",
        "elif b == c:\n",
        "    print(b)\n",
        "elif a == c :\n",
        "    print(c)\n"
      ],
      "metadata": {
        "id": "oKU0LlVvXJl7"
      },
      "execution_count": null,
      "outputs": []
    },
    {
      "cell_type": "markdown",
      "source": [
        "## Exercice 2.3\n",
        "\n",
        "Écrivez un programme qui lit avec input une température sous forme de float. Ensuite, le programme affiche :\n",
        " «Tropfroid!»\n",
        " si la température est inférieure à 10°C;\n",
        " « Juste comme il faut ! » si la température est entre 10°C\n",
        "et 25°C ;\n",
        " «Tropchaud!»sinon."
      ],
      "metadata": {
        "id": "IQR1k1_vXJ7R"
      }
    },
    {
      "cell_type": "code",
      "source": [
        "temp = float(input(\"Entrer une temperature : \"))\n",
        "\n",
        "if temp < 10:\n",
        "    print(\"Trop froid\")\n",
        "elif 10 <= temp <= 25:\n",
        "    print(\"Juste comme il faut \")\n",
        "else :\n",
        "    print(\"trop chaud\")"
      ],
      "metadata": {
        "colab": {
          "base_uri": "https://localhost:8080/"
        },
        "id": "kY3dsAYfXWzE",
        "outputId": "c2382426-69f1-496d-9d4b-563e2997b9c3"
      },
      "execution_count": null,
      "outputs": [
        {
          "output_type": "stream",
          "name": "stdout",
          "text": [
            "Entrer une temperature : 12\n",
            "Juste comme il faut \n"
          ]
        }
      ]
    },
    {
      "cell_type": "markdown",
      "source": [
        "## Exercice 2.4\n",
        "\n",
        " Écrivez un programme qui teste la parité d’un nombre entier lu sur input et imprime True si le nombre est pair, False dans le cas contraire.\n",
        "\n"
      ],
      "metadata": {
        "id": "cx954gq_XXMD"
      }
    },
    {
      "cell_type": "code",
      "source": [
        "a = int(input(\"Entrer un nombre \"))\n",
        "\n",
        "if a % 2 == 1:\n",
        "    print(False)\n",
        "else:\n",
        "    print(True)"
      ],
      "metadata": {
        "id": "P0WbKpVWXheu"
      },
      "execution_count": null,
      "outputs": []
    },
    {
      "cell_type": "markdown",
      "source": [
        "## Exercice 2.5\n",
        "\n",
        "Écrivez un programme qui lit deux entiers strictement positifs a et b sur input.\n",
        "Si b n’est pas un multiple de a,\n",
        "et a n’est pas un multiple de b\n",
        "alors le programma affiche\n",
        "a et b sont premiers entre eux.Danslecasoùaoubest négatif, le programme affiche un message d’erreur."
      ],
      "metadata": {
        "id": "OV8BL9VlXiKc"
      }
    },
    {
      "cell_type": "code",
      "source": [
        "a = int(input(\" Entrer un nombre :\"))\n",
        "b = int(input(\" Entrer un nombre :\"))\n",
        "\n",
        "if a <= 0 or  b <= 0:\n",
        "    print(\"erreur\")\n",
        "elif a % b != 0 and b % a != 0:\n",
        "    print(f\"{a} et {b} sont premier entre eux\")\n"
      ],
      "metadata": {
        "id": "CQTmQRkeXvIw"
      },
      "execution_count": null,
      "outputs": []
    },
    {
      "cell_type": "markdown",
      "source": [
        "---"
      ],
      "metadata": {
        "id": "JhHjBIecYKBw"
      }
    },
    {
      "cell_type": "markdown",
      "source": [
        "##<u> **TP 3** <u/> (30/09)"
      ],
      "metadata": {
        "id": "p1wy0GNEYLX8"
      }
    },
    {
      "cell_type": "markdown",
      "source": [
        "\n",
        "\n",
        "\n",
        "# Boucle `while`\n",
        "\n",
        "## Définition\n",
        "\n",
        "* Permet de répéter un bloc d’instructions **tant qu’une condition est vraie**.\n",
        "\n",
        "### Syntaxe\n",
        "\n",
        "```python\n",
        "while condition:\n",
        "    instructions\n",
        "```\n",
        "\n",
        "## Exemple\n",
        "\n",
        "```python\n",
        "i = 0\n",
        "while i < 10:\n",
        "    print(i)\n",
        "    i += 1\n",
        "\n",
        "print(\"Valeur finale de i:\", i)\n",
        "```\n",
        "\n",
        "* Affiche les entiers de `0` à `9`, puis la valeur finale `i = 10`.\n",
        "\n",
        "## Remarques\n",
        "\n",
        "* On **ne sait pas toujours à l’avance** combien de fois la boucle va s’exécuter.\n",
        "* La boucle continue tant que la condition est vraie.\n",
        "* ⚠️ Si la condition ne devient jamais fausse → boucle infinie.\n",
        "* Les instructions à l’intérieur de la boucle doivent être **indentées** par rapport à la condition.\n",
        "\n",
        "## Exercice\n",
        "\n",
        "Que fait ce code ?\n",
        "\n",
        "```python\n",
        "a = 1\n",
        "while a <= 5:\n",
        "    print(a, end=' ')\n",
        "    a += 1\n",
        "print(a)\n",
        "```\n",
        "\n",
        "* Résultat : `1 2 3 4 5 6`\n",
        "\n",
        "  * La boucle affiche les nombres de `1` à `5` sur une même ligne.\n",
        "  * Ensuite, elle affiche la valeur finale de `a` qui vaut `6`.\n",
        "\n",
        "---\n",
        "\n"
      ],
      "metadata": {
        "id": "KQLlezevYmEd"
      }
    },
    {
      "cell_type": "markdown",
      "source": [
        "# Exercices"
      ],
      "metadata": {
        "id": "z-nrN_mIYjv5"
      }
    },
    {
      "cell_type": "markdown",
      "source": [
        "## Exercices 2.6\n",
        "\n",
        "Que fait cette suite d’instructions ?\n",
        "```python\n",
        "a=1\n",
        "while a <= 5:\n",
        "  print(a, end=’ ’)\n",
        "  a += 1\n",
        "print(a)\n",
        "```"
      ],
      "metadata": {
        "id": "jnkJNvIeZCvz"
      }
    },
    {
      "cell_type": "code",
      "source": [
        "a=1\n",
        "while a <= 5:\n",
        "    print(a, end=' ')\n",
        "    a += 1\n",
        "    print(a)\n"
      ],
      "metadata": {
        "id": "KAhxxWEjZiEI"
      },
      "execution_count": null,
      "outputs": []
    },
    {
      "cell_type": "markdown",
      "source": [
        "## Exercice 2.7\n",
        "\n",
        "Écrivez un programme dans lequel vous définissez arbitrairement un code secret dans la constante 1 PASSWORD. Le programme demande d’entrer un mot de passe et continue de le demander jusqu’à ce qu’il soit correct. Le programme affiche un message d’erreur à chaque fois que le mot de passe ne correspond pas.\n",
        "\n",
        "Variante : faites en sorte que l’on ne puisse entrer le mot de passe que trois fois. Si le mot de passe est encore incorrect après trois essais, le programme affiche un message d’erreur et se termine."
      ],
      "metadata": {
        "id": "YSktvsV2ZpuC"
      }
    },
    {
      "cell_type": "code",
      "source": [
        "PASSWORD = \"joel\"\n",
        "\n",
        "for i in range(3,0,-1):\n",
        "    user_choice = input(\"Entrer un mot de passe :\")\n",
        "    if user_choice == PASSWORD:\n",
        "        print(f\"vous avez trouver le mot de passe : {PASSWORD}\")\n",
        "    else:\n",
        "        print(f\"Reesayez\\nil vous reste {i-1} essais \\nINDICE : la longueur du mot de passe est: {len(PASSWORD)}\")\n"
      ],
      "metadata": {
        "id": "FgXvrdIEZt-u"
      },
      "execution_count": null,
      "outputs": []
    },
    {
      "cell_type": "markdown",
      "source": [
        "## Exercice 2.8\n",
        "\n",
        "Écrivez un programme qui lit avec input un nombre entier positif n, et qui calcule la somme de tous les entiers de 1 à n inclus, puis affiche celle-ci.\n",
        "Si le nombre entré est négatif, le programme doit afficher un message d’erreur et s’arrêter. Vous pouvez utiliser la fonction exit pour arrêter le programme immédiatement."
      ],
      "metadata": {
        "id": "5cYJqN5wZ3lY"
      }
    },
    {
      "cell_type": "code",
      "source": [
        "n = int(input(\"Entrer un entier:\"))\n",
        "\n",
        "add = 0\n",
        "\n",
        "if n >= 0:\n",
        "    for i in range(n+1):\n",
        "        add += i\n",
        "    print(add)\n",
        "else:\n",
        "    exit()"
      ],
      "metadata": {
        "id": "DC5IoXaJZ6Ip"
      },
      "execution_count": null,
      "outputs": []
    },
    {
      "cell_type": "markdown",
      "source": [
        "## Exercice 2.10\n",
        "\n",
        "Écrivez un programme qui initialise les points de vie d’une plante carnivore à 100 puis qui vous demande répétitivement de vous en occuper en affichant son état de santé puis en vous demandant ce que vous voulez lui donner à manger sur le clavier. Si la valeur lue sur le clavier est\n",
        "\"mouche\", la plante gagne +10 points de vie,\n",
        "\"eau\", la plante gagne +1 point de vie,\n",
        "\"steak\", la plante gagne +100 points de vie.\n",
        "toute autre valeur, la plante perd 50 points de vie.\n",
        "Le programme se termine si votre plante meurt (points de vie ≤ 0) ou si celle-ci vous mange ! La plante carnivore vous dévorre si ses points de vie sont supérieurs à 200.\n"
      ],
      "metadata": {
        "id": "J9TCt87FaA0m"
      }
    },
    {
      "cell_type": "code",
      "source": [
        "vie = 100\n",
        "is_running = True\n",
        "print(\"Bienvenue!\")\n",
        "while is_running:\n",
        "    print(\"===MENU===\\n 1.Mouche, 2.Eau, 3.Steak\")\n",
        "    choice = input(\"Que voulez vous donnez a manger a votre plante: \")\n",
        "    match choice :\n",
        "        case 1 :\n",
        "            vie += 10\n",
        "        case 2 :\n",
        "            vie += 1\n",
        "        case 3 :\n",
        "            vie += 100\n",
        "        case _:\n",
        "            vie -= 50\n",
        "    print(f\"Votre plante a: {vie} PV\\n==========\")\n",
        "    if vie > 200 or vie <= 0:\n",
        "        is_running = False\n",
        "\n",
        "print(\"votre plante est morte\")\n"
      ],
      "metadata": {
        "id": "06E90H68aAYu"
      },
      "execution_count": null,
      "outputs": []
    },
    {
      "cell_type": "markdown",
      "source": [
        "##Exercice 2.9\n",
        "\n",
        "Ecrivez un programme dans lequel un utilisateur doit deviner un nombre secret entre 1 et 100 stocké dans la constante NOMBRE_SECRET.\n",
        "\n",
        "Le programme demande de deviner le nombre et indique après chaque essai si le nombre entré sur input était trop petit, trop grand ou si le nombre a été trouvé."
      ],
      "metadata": {
        "id": "2fxzjdW9aVEk"
      }
    },
    {
      "cell_type": "code",
      "source": [
        "import random\n",
        "\n",
        "NOMBRE_SECRET = random.randint(1,100)\n",
        "\n",
        "while True:\n",
        "    choice = int(input(\"Entrer un nombre (1-100): \"))\n",
        "    if choice == NOMBRE_SECRET:\n",
        "        print(f\"c'est correct le nombre etait: {NOMBRE_SECRET}\")\n",
        "        break\n",
        "    elif choice < NOMBRE_SECRET:\n",
        "        print(\"Plus grand !\")\n",
        "    elif choice > NOMBRE_SECRET:\n",
        "        print(\"Plus petit !\")"
      ],
      "metadata": {
        "colab": {
          "base_uri": "https://localhost:8080/"
        },
        "id": "D-bzN5Psaaf9",
        "outputId": "61a14933-c132-4e53-9b24-6e9969e8af4d"
      },
      "execution_count": null,
      "outputs": [
        {
          "output_type": "stream",
          "name": "stdout",
          "text": [
            "Entrer un nombre (1-100): 55\n",
            "Plus petit !\n",
            "Entrer un nombre (1-100): 44\n",
            "Plus grand !\n",
            "Entrer un nombre (1-100): 50\n",
            "Plus grand !\n",
            "Entrer un nombre (1-100): 54\n",
            "Plus petit !\n",
            "Entrer un nombre (1-100): 53\n",
            "Plus petit !\n",
            "Entrer un nombre (1-100): 52\n",
            "c'est correct le nombre etait: 52\n"
          ]
        }
      ]
    },
    {
      "cell_type": "markdown",
      "source": [
        "## Exercice 2.11\n",
        "\n",
        "Une suite de Syracuse u0,u1,...,un est une suite de nombres\n",
        "telle que :\n",
        "u0 ∈ 􏰀+ est un entier naturel positif donné 􏰁 un si un est pair un+1 = 2\n",
        "3un + 1 si un est impair\n",
        "\n",
        "La conjecture de Syracuse est une conjecture mathématique qui n’a pas encore été prouvée. Cette conjecture stipule que pour tout u0, la suite de Syracuse converge toujours vers 1.\n",
        "\n",
        "Écrivez un programme qui lit un entier naturel u0 sur input et qui affiche les termes de la suite de Syracuse jusqu’à arriver à 1.\n",
        "   "
      ],
      "metadata": {
        "id": "HAiPKOyGaiPG"
      }
    },
    {
      "cell_type": "code",
      "source": [
        "n = int(input(\"entrer un chiffre:\"))\n",
        "while n != 1:\n",
        "    print(n)\n",
        "    if n % 2 == 0:\n",
        "        n = n / 2\n",
        "    else:\n",
        "        n = n * 3 + 1\n",
        "print(n)"
      ],
      "metadata": {
        "id": "qyUS8uuMattw"
      },
      "execution_count": null,
      "outputs": []
    },
    {
      "cell_type": "markdown",
      "source": [
        "---"
      ],
      "metadata": {
        "id": "BugSVCcEhV-f"
      }
    },
    {
      "cell_type": "markdown",
      "source": [
        "##<u> **TP 4** <u/> (1/10)"
      ],
      "metadata": {
        "id": "xI2ccfJJg3ZW"
      }
    },
    {
      "cell_type": "markdown",
      "source": [
        "\n",
        "# Boucles `for` et `while`\n",
        "\n",
        "## Instruction `for`\n",
        "\n",
        "* La boucle `for` permet de répéter un bloc **un nombre prédéfini de fois**.  \n",
        "* La boucle `while` répète un bloc tant qu’une **condition est vraie**, sans connaître à l’avance le nombre de répétitions.\n",
        "\n",
        "### Syntaxe\n",
        "\n",
        "```python\n",
        "for <VARIABLE> in <ITERABLE>:\n",
        "    <INSTRUCTIONS>\n",
        "````\n",
        "\n",
        "### Exemple\n",
        "\n",
        "```python\n",
        "for i in range(10):\n",
        "    print(i)\n",
        "\n",
        "print(\"Valeur finale de i:\", i)\n",
        "```\n",
        "\n",
        "## Fonction `range()`\n",
        "\n",
        "* `range(stop)` → génère les entiers de `0` à `stop - 1`.\n",
        "* `range(start, stop, step)` → génère les entiers de `start` à `stop - 1` avec un pas `step`.\n",
        "\n",
        "### Exemple : pas positif\n",
        "\n",
        "```python\n",
        "for i in range(1, 10, 2):\n",
        "    print(i)\n",
        "```\n",
        "\n",
        "### Exemple : pas négatif\n",
        "\n",
        "```python\n",
        "for i in range(10, 0, -1):\n",
        "    print(i)\n",
        "```\n",
        "\n",
        "## Correspondance `for` et `while`\n",
        "\n",
        "* Une boucle `for` peut toujours être remplacée par une boucle `while`.\n",
        "* L’inverse n’est pas toujours vrai.\n",
        "* La boucle `for` est souvent plus **claire** et **concise**.\n",
        "\n",
        "### Exemple avec `for`\n",
        "\n",
        "```python\n",
        "for i in range(1, 10, 2):\n",
        "    print(i)\n",
        "```\n",
        "\n",
        "### Exemple avec `while`\n",
        "\n",
        "```python\n",
        "i = 1\n",
        "while i < 10:\n",
        "    print(i)\n",
        "    i += 2\n",
        "```"
      ],
      "metadata": {
        "id": "FLTRd4XpfvlH"
      }
    },
    {
      "cell_type": "markdown",
      "source": [
        "---\n",
        "# Exercices"
      ],
      "metadata": {
        "id": "YEA8dExohYC2"
      }
    },
    {
      "cell_type": "markdown",
      "source": [
        "## Exercices 2.13\n",
        "\n",
        "Écrivez un programme qui lit avec input un nombre entier n et calcule la factorielle de n à l’aide d’une boucle for. Ensuite le programme affiche le résultat.\n",
        "Pour rappel, la factorielle de n se note n! et n!=1×2×···×n.\n"
      ],
      "metadata": {
        "id": "pbC9sZD-hl9D"
      }
    },
    {
      "cell_type": "code",
      "source": [
        "n = int(input(\"Entrer un nombre : \"))\n",
        "total = 1\n",
        "\n",
        "for i in range(n,0,-1):\n",
        "    total *= i\n",
        "print(total)"
      ],
      "metadata": {
        "id": "7Zrh2BvrhwCb"
      },
      "execution_count": null,
      "outputs": []
    },
    {
      "cell_type": "markdown",
      "source": [
        "## Exercices 2.14\n",
        "\n",
        "Écrivez un programme qui lit sur input une valeur naturelle n et qui affiche à l’écran un carré de n caractères X de côté. Pensez à utiliser la multiplication de chaînes de caractères.\n",
        "Pour n = 6, on aurait l’affichage ci-dessous :\n",
        "\n",
        "XXXXXX\n",
        "XXXXXX\n",
        "XXXXXX\n",
        "XXXXXX\n",
        "XXXXXX\n",
        "XXXXXX"
      ],
      "metadata": {
        "id": "iQDi0tDThwoN"
      }
    },
    {
      "cell_type": "code",
      "source": [
        "n = int(input(\"Entrer un nombre : \"))\n",
        "\n",
        "for i in range(n):\n",
        "    print(\"*\" * n )"
      ],
      "metadata": {
        "id": "NYXndVG9h8Il"
      },
      "execution_count": null,
      "outputs": []
    },
    {
      "cell_type": "markdown",
      "source": [
        "## Exercice 2.15\n",
        "\n",
        "Écrivez un programme qui lit avec input une valeur naturelle impaire n et qui affiche à l’écran un carré de n caractères X de côté avec des O sur la diagonale. Si n est pair, le programme affiche un message d’erreur et se termine. Pour n = 5, on aurait l’affichage ci-dessous :\n",
        "OXXXO XOXOX XXOXX XOXOX OXXXO"
      ],
      "metadata": {
        "id": "pwmeBi0PiG55"
      }
    },
    {
      "cell_type": "code",
      "source": [
        "n = int(input(\"Entrer un nombre : \"))\n",
        "if n % 2 != 0:\n",
        "    for i in range(n):\n",
        "        ligne = \"\"\n",
        "        for j in range(n):\n",
        "            if i == j or i + j == n - 1:\n",
        "                ligne += \"O\"\n",
        "            else:\n",
        "                ligne += \"X\"\n",
        "        print(ligne)"
      ],
      "metadata": {
        "id": "gbYxta_Jh65X"
      },
      "execution_count": null,
      "outputs": []
    },
    {
      "cell_type": "markdown",
      "source": [
        "## Exercice 2.16\n",
        "\n",
        "Écrivez un programme qui lit une chaîne de caractères avec input puis qui compte et affiche le nombre de voyelles dans ce mot."
      ],
      "metadata": {
        "id": "SzV-qiiTiMxK"
      }
    },
    {
      "cell_type": "code",
      "source": [
        "mot = input(\"Entrer un str :\")\n",
        "count = 0\n",
        "voyelles = \"aeiouyAEIOUY\"\n",
        "\n",
        "for voyelle in voyelles:\n",
        "    for lettre in mot:\n",
        "        if voyelle == lettre:\n",
        "            count += 1\n",
        "print(count)"
      ],
      "metadata": {
        "id": "LXcw3_iOiTUg"
      },
      "execution_count": null,
      "outputs": []
    },
    {
      "cell_type": "markdown",
      "source": [
        "---"
      ],
      "metadata": {
        "id": "Iw1nV33ciV72"
      }
    },
    {
      "cell_type": "markdown",
      "source": [
        "##<u> **TP 5** <u/> (6/10)"
      ],
      "metadata": {
        "id": "2BNv_5qlegJl"
      }
    },
    {
      "cell_type": "markdown",
      "source": [
        "\n",
        "# Les fonctions\n",
        "\n",
        "##  Introduction\n",
        "Les fonctions permettent de regrouper un ensemble d’instructions sous un même nom.  \n",
        "Elles facilitent la **réutilisation du code** et la **structuration de la pensée**.  \n",
        "Une fonction peut :  \n",
        "- recevoir des paramètres,  \n",
        "- effectuer un traitement,  \n",
        "- renvoyer éventuellement un résultat.\n",
        "\n",
        "**Exemples de fonctions intégrées :** `print()`, `input()`, `exit()`.  \n",
        "> Note : `int`, `float`, `str`, `range` sont des **classes**, pas des fonctions.\n",
        "\n",
        "\n",
        "\n",
        "## Définir une fonction\n",
        "On utilise le mot-clé `def` suivi du nom de la fonction et des paramètres :\n",
        "```python\n",
        "def addition(a, b):\n",
        "    somme = a + b\n",
        "    return somme\n",
        "\n",
        "resultat = addition(3, 5)\n",
        "print(f\"La somme de 3 et 5 est {resultat}\")\n",
        "````\n",
        "\n",
        "### Points d’attention\n",
        "\n",
        "* Définir une fonction **n’exécute pas** son code.\n",
        "* Le corps doit être **indenté**.\n",
        "* Une fonction sans `return` renvoie implicitement `None`.\n",
        "\n",
        "\n",
        "\n",
        "##  Indications de type (optionnel)\n",
        "\n",
        "Permettent de documenter le code et d’aider l’IDE :\n",
        "\n",
        "```python\n",
        "def ajouter_un(x: int) -> int:\n",
        "    return x + 1\n",
        "\n",
        "def moitie(x: int) -> float:\n",
        "    return x / 2\n",
        "\n",
        "def est_pair(x: int) -> bool:\n",
        "    return x % 2 == 0\n",
        "```\n",
        "\n",
        "> Les types ne sont pas vérifiés à l’exécution, ils servent à l’information.\n",
        "\n",
        "\n",
        "\n",
        "## Portée des variables\n",
        "\n",
        "Les variables définies **à l’intérieur d’une fonction** sont locales :\n",
        "\n",
        "```python\n",
        "def ajouter_un(x: int) -> int:\n",
        "    y = x + 1\n",
        "    return y\n",
        "\n",
        "ajouter_un(5)\n",
        "print(y)  # Erreur : y n’est pas défini\n",
        "```\n",
        "\n",
        "> Les modifications d’une variable locale **n’affectent pas** une variable du même nom en dehors de la fonction.\n",
        "\n",
        "\n",
        "\n",
        "##  `print()` vs `return`\n",
        "\n",
        "* `print()` : affiche une valeur à l’écran, **ne la renvoie pas**.\n",
        "* `return` : renvoie une valeur utilisable dans le programme.\n",
        "\n",
        "```python\n",
        "def ajouter_un(x: int) -> int:\n",
        "    return x + 1\n",
        "\n",
        "def ajouter_un_v2(x: int) -> None:\n",
        "    print(x + 1)\n",
        "\n",
        "a = ajouter_un(5)      # a = 6\n",
        "b = ajouter_un_v2(5)   # affiche 6, mais b = None\n",
        "```\n",
        "\n",
        "\n",
        "\n",
        "##  Documentation (docstring)\n",
        "\n",
        "On peut documenter une fonction avec une chaîne entre triples guillemets :\n",
        "\n",
        "```python\n",
        "def ajouter_un(x: int) -> int:\n",
        "    \"\"\"Ajoute 1 à x et renvoie le résultat.\"\"\"\n",
        "    return x + 1\n",
        "\n",
        "help(ajouter_un)  # Affiche la docstring\n",
        "```\n",
        "\n",
        "\n",
        "\n",
        "## Conventions de nommage\n",
        "\n",
        "* Variables et fonctions : **minuscules avec underscores**\n",
        "\n",
        "  ```python\n",
        "  ma_variable, fonction_test_27()\n",
        "  ```\n",
        "* Constantes : **majuscules**\n",
        "\n",
        "  ```python\n",
        "  MA_CONSTANTE = 3.14\n",
        "  ```\n",
        "\n"
      ],
      "metadata": {
        "id": "BVF0xEQJfKnB"
      }
    },
    {
      "cell_type": "markdown",
      "source": [
        "---\n",
        "# Exercices"
      ],
      "metadata": {
        "id": "fxTxrJoCfpMR"
      }
    },
    {
      "cell_type": "markdown",
      "source": [
        "## Exercice 3.1\n",
        "\n",
        "\n",
        "Écrivez une fonction deux_egaux(a, b, c) qui reçoit 3 nombres en paramètre, et qui renvoie True si au moins deux d’entre eux ont la même valeur, et False sinon.\n",
        "Testez votre fonction en l’appelant avec des valeurs que vous choisissez et en affichant la valeur de retour."
      ],
      "metadata": {
        "id": "7z9NjFYcfv6x"
      }
    },
    {
      "cell_type": "code",
      "source": [
        "def deux_egaux(a,b,c):\n",
        "    if a == b :\n",
        "        return True\n",
        "    elif b == c :\n",
        "        return True\n",
        "    elif a == c:\n",
        "        return True\n",
        "    else:\n",
        "        return False\n",
        "\n",
        "print(deux_egaux(4,5,5))"
      ],
      "metadata": {
        "id": "NyGHKy84fthn"
      },
      "execution_count": null,
      "outputs": []
    },
    {
      "cell_type": "markdown",
      "source": [
        "##Exercice 3.2\n",
        "\n",
        "Écrivez une fonction\n",
        "second_degre(x: float, a: float, b: float, c: float)-> float qui calcule la valeur de la fonction du second degré f(x) = ax2 + bx + c en un point x donné.\n",
        "\n",
        "Par exemple,l’appel second_degre(2, 1, 3, 4)doit renvoyer1×22+3×2+ 4=14 et l’appel second_degre(0, 1, 3, 4)doit renvoyer 1×02+3×0+4= 4."
      ],
      "metadata": {
        "id": "QRVa2CZxgLf3"
      }
    },
    {
      "cell_type": "code",
      "source": [
        "def second_degre(x: float,a: float, b: float,c: float ) -> float:\n",
        "    return (a * x**2) + (b*x) + (c)"
      ],
      "metadata": {
        "id": "ehYj2bzNgKxc"
      },
      "execution_count": null,
      "outputs": []
    },
    {
      "cell_type": "markdown",
      "source": [
        "## Exercice 3.8\n",
        "\n",
        "Qu’affiche le code suivant ?"
      ],
      "metadata": {
        "id": "8GQhub9ug3Vi"
      }
    },
    {
      "cell_type": "code",
      "source": [
        "def f(x):\n",
        "    \"\"\"test\"\"\"\n",
        "    x = 3\n",
        "\n",
        "x = 4\n",
        "f(x)\n",
        "print(x)\n",
        "\n",
        "# 4"
      ],
      "metadata": {
        "id": "PdTKrnw2g-rH"
      },
      "execution_count": null,
      "outputs": []
    },
    {
      "cell_type": "markdown",
      "source": [
        "# Exercice 3.10\n",
        "\n",
        "Le code suivant est-il correct ?"
      ],
      "metadata": {
        "id": "ufrdS-jJhGau"
      }
    },
    {
      "cell_type": "code",
      "source": [
        "def plus2(x):\n",
        "   \"\"\"Renvoie la valeur donnee augmentee de 2.\"\"\"\n",
        "   return x+2 \"\"\"On renvoie x+2\"\"\"\n"
      ],
      "metadata": {
        "id": "ieFqObTqhOE5"
      },
      "execution_count": null,
      "outputs": []
    },
    {
      "cell_type": "markdown",
      "source": [
        "## Exercice 3.3\n",
        "\n",
        "Écrivez une fonction est_premier(n: int)-> bool qui prend en paramètre un entier n et qui renvoie True si le nombre est premier, ou False sinon.\n",
        "Pour rappel, un nombre premier est un entier qui n’a pas d’autres diviseurs positifs que 1 et lui-même. Par exemple, les nombres 2, 3, 5, 7, 11 et 13 sont premiers, tandis que les nombres 4, 6, 8, 9 et 10 ne le sont pas."
      ],
      "metadata": {
        "id": "CnmFCZ4qhabQ"
      }
    },
    {
      "cell_type": "code",
      "source": [
        "def est_premier(n: int)-> bool:\n",
        "        if n < 2:\n",
        "            return False\n",
        "        for i in range(2, n):\n",
        "            if n % i == 0:\n",
        "                return False\n",
        "        return True\n",
        "print(est_premier(2))"
      ],
      "metadata": {
        "id": "fH2TFX6NhdCe"
      },
      "execution_count": null,
      "outputs": []
    },
    {
      "cell_type": "markdown",
      "source": [
        "## Exercice 3.4\n",
        "\n",
        "Écrivezunefonctioncompter_chiffres(x: int)-> intquicompte le nombre de chiffres dans un entier x. Par exemple\n",
        "compter_chiffres(12345) renvoie 5,  compter_chiffres(0) renvoie 1,\n",
        "compter_chiffres(-2432) renvoie 4."
      ],
      "metadata": {
        "id": "yBtEhDLchtLs"
      }
    },
    {
      "cell_type": "code",
      "source": [
        "def compter_chiffres(x: int) -> int:\n",
        "    x = str(x)\n",
        "    if x[0] == \"-\":\n",
        "        x = x[1:]\n",
        "    return len(x)\n",
        "\n",
        "print(compter_chiffres(34089))"
      ],
      "metadata": {
        "id": "tUUum12Ahs24"
      },
      "execution_count": null,
      "outputs": []
    },
    {
      "cell_type": "markdown",
      "source": [
        "## Exercice 3.5\n",
        "\n",
        "\n",
        "**Exercice difficile:** Un nombre d’Armstrong est un nombre égal à la somme des chiffres qui le composent élevés à la puissance de la taille du nombre.\n",
        "Par exemple, 9 est un nombre d’Armstrong, parce que 9 = 91 = 9. Le nombre 10 n’est pas un nombre d’Armstrong, parce que 10 􏰂 12 + 02 = 1. Le nombre 153 est un nombre d’Armstrong, parceque153=13+53+33 =1+125+27=153.\n",
        "Écrivezunefonctionest_armstrong(nombre: int)-> boolqui reçoit en paramètre un entier et qui renvoie si le nombre suit les règles d’Armstrong.\n",
        "Indice : pensez à utiliser les opérateurs % et //."
      ],
      "metadata": {
        "id": "tWkcVHj0h4Yr"
      }
    },
    {
      "cell_type": "code",
      "source": [
        "def est_amstrong(nombre: int) -> bool:\n",
        "    nombre = str(nombre)\n",
        "    exp = len(nombre)\n",
        "    final = 0\n",
        "    for chiffre in nombre:\n",
        "        chiffre = int(chiffre)\n",
        "        final += (chiffre ** exp)\n",
        "    if final == int(nombre) :\n",
        "        return True\n",
        "    else:\n",
        "        return False\n",
        "\n",
        "print(est_amstrong(153))"
      ],
      "metadata": {
        "id": "_QnohsjaiGUL"
      },
      "execution_count": null,
      "outputs": []
    },
    {
      "cell_type": "markdown",
      "source": [
        "---"
      ],
      "metadata": {
        "id": "MVWFVgXXiRkk"
      }
    },
    {
      "cell_type": "markdown",
      "source": [
        "##<u> **TP 6** <u/> (8/10)"
      ],
      "metadata": {
        "id": "ECaJh0orJQvt"
      }
    },
    {
      "cell_type": "markdown",
      "source": [
        "Voici une synthèse claire et structurée du **TP6 – Fonctions et modules** au format **Markdown (.md)** :\n",
        "\n",
        "---\n",
        "\n",
        "# Fonctions et Modules\n",
        "\n",
        "\n",
        "## Paramètres optionnels\n",
        "\n",
        "* Une fonction peut avoir **des paramètres avec une valeur par défaut**.\n",
        "* Ces paramètres deviennent **optionnels** lors de l’appel de la fonction.\n",
        "* **Règle :** les paramètres optionnels doivent être **placés après** les paramètres obligatoires.\n",
        "\n",
        "### Exemple :\n",
        "\n",
        "```python\n",
        "def saluer(nom: str, ponctuation: str = '!') -> None:\n",
        "    print(f\"Bonjour {nom}{ponctuation}\")\n",
        "\n",
        "saluer(\"Alice\")       # Bonjour Alice!\n",
        "saluer(\"Bob\", '.')    # Bonjour Bob.\n",
        "```\n",
        "\n",
        "\n",
        "## Paramètres nommés\n",
        "\n",
        "* Il est possible de **passer les paramètres par leur nom**, sans respecter l’ordre de déclaration.\n",
        "* Utile lorsque la fonction a beaucoup de paramètres.\n",
        "\n",
        "### Exemple :\n",
        "\n",
        "```python\n",
        "def ma_fonction(a: int, b: float, c: str, d=\"\"):\n",
        "    ...\n",
        "\n",
        "# Appel classique\n",
        "ma_fonction(1, 2.0, \"Bonjour\", \"Salut\")\n",
        "\n",
        "# Appel dans le désordre\n",
        "ma_fonction(d=\"Salut\", b=2.0, c=\"Bonjour\", a=1)\n",
        "\n",
        "# Mélange des deux\n",
        "ma_fonction(1, 2.0, d=\"Bonjour\", c=\"Salut\")\n",
        "```\n",
        "\n",
        "---\n",
        "\n",
        "##  Modules\n",
        "\n",
        "* Un **module** est un **fichier Python (.py)** contenant des fonctions et des variables.\n",
        "* Pour les utiliser, il faut **importer** le module.\n",
        "\n",
        "### Importation de modules standards :\n",
        "\n",
        "```python\n",
        "import math\n",
        "from random import randint\n",
        "\n",
        "racine_de_16 = math.sqrt(16)\n",
        "r = randint(1, 10)\n",
        "\n",
        "print(racine_de_16)  # 4.0\n",
        "print(r)              # nombre aléatoire entre 1 et 10\n",
        "```\n",
        "\n",
        "---\n",
        "\n",
        "## Création de modules personnalisés\n",
        "\n",
        "* Il est possible de créer ses **propres modules** pour mieux organiser le code.\n",
        "* Il suffit de créer un fichier `.py` contenant des fonctions, puis de l’importer.\n",
        "\n",
        "### Exemple :\n",
        "\n",
        "**operations.py**\n",
        "\n",
        "```python\n",
        "def ajouter(a: int, b: int) -> int:\n",
        "    return a + b\n",
        "```\n",
        "\n",
        "**main.py**\n",
        "\n",
        "```python\n",
        "import operations\n",
        "\n",
        "print(operations.ajouter(1, 2))  # Affiche 3\n",
        "```\n",
        "\n",
        "---\n",
        "\n",
        "## Conventions de nommage des modules\n",
        "\n",
        "Les noms de fichiers (modules) doivent être en **snake_case** :\n",
        "✅ `operations.py`\n",
        "✅ `geometrie_euclidienne.py`\n",
        "❌ `Operations.py`\n",
        "❌ `GeometrieEuclidienne.py`\n",
        "\n",
        "---\n",
        "\n",
        "\n"
      ],
      "metadata": {
        "id": "pw41IZ1YKgxB"
      }
    },
    {
      "cell_type": "markdown",
      "source": [
        "# Exercices"
      ],
      "metadata": {
        "id": "lgqTUyNTOFuz"
      }
    },
    {
      "cell_type": "markdown",
      "source": [
        "## Exercice 3.6\n",
        "\n",
        "Le code suivant est-il syntaxiquement correct? Quelle est sa sémantique ?"
      ],
      "metadata": {
        "id": "fVHG0FQLOHkh"
      }
    },
    {
      "cell_type": "code",
      "source": [
        "def f(x,y=10):\n",
        "    return x -y\n",
        "\n",
        "print(f(8,9))\n",
        "print(f(y=3,x=4))\n",
        "print(f(4))\n",
        "# oui"
      ],
      "metadata": {
        "id": "Pfy06H3hONoi"
      },
      "execution_count": null,
      "outputs": []
    },
    {
      "cell_type": "markdown",
      "source": [
        "# Exercice 3.7\n",
        "\n",
        "Le code suivant est-il syntaxiquement correct? Quelle en est l’utilité par rapport à l’3.6 ?"
      ],
      "metadata": {
        "id": "75FNtFy_OQ4I"
      }
    },
    {
      "cell_type": "code",
      "source": [
        "def f(x: float, y: int=10) -> float:\n",
        "   return x - y\n",
        "\n",
        "print(f(8.5, 9))"
      ],
      "metadata": {
        "id": "lGuXiO_ROX7N"
      },
      "execution_count": null,
      "outputs": []
    },
    {
      "cell_type": "markdown",
      "source": [
        "# Exercice 3.12\n",
        "\n",
        "Écrivez une fonction deviner_nombre(nombre: int | None = None) qui fait deviner un nombre secret entre 1 et 100. Si le paramètre nombre est différent de None, ce nombre est utilisé comme nombre secret. Sinon, le nombre est tiré aléatoirement entre 1 et 100 (inclus) à l’aide de la fonction randint du module random.\n",
        "Utilisez help(random.randint) ou la documentation officielle en ligne pour obtenir plus d’informations sur le fonctionnement de cette fonction.\n",
        "Vous pouvez vous aider de votre solution de l’2.9."
      ],
      "metadata": {
        "id": "UmCJHTsMOb0M"
      }
    },
    {
      "cell_type": "code",
      "source": [
        "import random\n",
        "\n",
        "def deviner_nombre(nombre: int) -> bool:\n",
        "    if nombre != None:\n",
        "        nombre_secret = nombre\n",
        "    else:\n",
        "        nombre_secret = random.randint(1,100)\n",
        "    is_running = True\n",
        "    while is_running:\n",
        "        user_choice = int(input(\"entrer un nombre : \"))\n",
        "        if user_choice == nombre_secret:\n",
        "            print(\"c'est gagne !\")\n",
        "            is_running = False\n",
        "        elif user_choice < nombre_secret:\n",
        "            print(\"plus grand\")\n",
        "        elif user_choice > nombre_secret:\n",
        "            print(\"plus petit \")\n",
        "\n",
        "deviner_nombre(None)\n"
      ],
      "metadata": {
        "id": "3dl5ssKEO8C6"
      },
      "execution_count": null,
      "outputs": []
    },
    {
      "cell_type": "markdown",
      "source": [
        "---"
      ],
      "metadata": {
        "id": "ccwp99a4PN2W"
      }
    }
  ]
}