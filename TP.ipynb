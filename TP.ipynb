{
  "nbformat": 4,
  "nbformat_minor": 0,
  "metadata": {
    "colab": {
      "provenance": [],
      "authorship_tag": "ABX9TyMy8y/EYYc7+MwXElzUcjSZ",
      "include_colab_link": true
    },
    "kernelspec": {
      "name": "python3",
      "display_name": "Python 3"
    },
    "language_info": {
      "name": "python"
    }
  },
  "cells": [
    {
      "cell_type": "markdown",
      "metadata": {
        "id": "view-in-github",
        "colab_type": "text"
      },
      "source": [
        "<a href=\"https://colab.research.google.com/github/syril27/INFO-F101/blob/main/TP.ipynb\" target=\"_parent\"><img src=\"https://colab.research.google.com/assets/colab-badge.svg\" alt=\"Open In Colab\"/></a>"
      ]
    },
    {
      "cell_type": "markdown",
      "source": [
        "#<u>**Programmation : TP**</u>\n",
        "---\n"
      ],
      "metadata": {
        "id": "U9JC7jyBdT6z"
      }
    },
    {
      "cell_type": "markdown",
      "source": [
        "##<u> **TP 1** <u/> (22/09)\n",
        "\n",
        "\n",
        "\n",
        "\n",
        "\n",
        "\n"
      ],
      "metadata": {
        "id": "SZtC8qlNdZz3"
      }
    },
    {
      "cell_type": "markdown",
      "source": [
        "#Variables & Opérateurs\n",
        "\n",
        "## Variables\n",
        "\n",
        "* Une variable est un conteneur qui stocke une valeur.\n",
        "* Types courants :\n",
        "\n",
        "  * `int` → entier (ex. `x = 10`)\n",
        "  * `float` → nombre à virgule (ex. `y = 3.14`)\n",
        "  * `str` → chaîne de caractères (ex. `name = \"Alice\"`)\n",
        "\n",
        "Attention : l’indentation est importante en Python, chaque ligne doit être bien alignée.\n",
        "\n",
        "\n",
        "\n",
        "## Exemple\n",
        "\n",
        "```python\n",
        "x = 10        # int\n",
        "y = 3.14      # float\n",
        "name = \"Alice\"  # str\n",
        "\n",
        "print(x, y, name)\n",
        "```\n",
        "\n",
        "\n",
        "## Opérateurs principaux\n",
        "\n",
        "* Addition : `+`\n",
        "* Soustraction : `-`\n",
        "* Multiplication : `*`\n",
        "* Division : `/`\n",
        "* Division entière : `//`\n",
        "* Modulo (reste de la division) : `%`\n",
        "* Exponentiation : `**`\n",
        "\n",
        "\n"
      ],
      "metadata": {
        "id": "F5hmwQBrfOuj"
      }
    },
    {
      "cell_type": "markdown",
      "source": [
        "---\n",
        "#Exercices\n"
      ],
      "metadata": {
        "id": "yZpQMxdEg2ZR"
      }
    },
    {
      "cell_type": "markdown",
      "source": [
        "## Exercice 1.6\n",
        "\n",
        "Créez un fichier volume_sphere.py dans lequel vous écrivez un programme qui calcule le volume d’une sphère de rayon 5, puis de rayon 8. Le volume d’une sphère de rayon r est donné par 4/3pir3.\n",
        "\n",
        "Affichez le résultat à l’écran à l’aide de la fonction print. Vous pouvez utiliser une valeur approchée de pi"
      ],
      "metadata": {
        "id": "jrZTEtV0eFT0"
      }
    },
    {
      "cell_type": "code",
      "source": [
        "r  = 5\n",
        "pi = 3.14\n",
        "\n",
        "print(4/3*pi*r**3)\n",
        "\n",
        "r  = 8\n",
        "\n",
        "print(4/3*pi*r**3)"
      ],
      "metadata": {
        "colab": {
          "base_uri": "https://localhost:8080/"
        },
        "id": "hpdoqvFidgq-",
        "outputId": "48f3322f-ffd5-4856-b0c9-4c85c139bd27"
      },
      "execution_count": null,
      "outputs": [
        {
          "output_type": "stream",
          "name": "stdout",
          "text": [
            "523.3333333333334\n",
            "2143.5733333333333\n"
          ]
        }
      ]
    },
    {
      "cell_type": "markdown",
      "source": [
        "## Exercice 1.7\n",
        "\n",
        "Écrivez un programme calcul_vitesse.py qui calcule votre vitesse moyenne en kilomètre par heure si vous parcourez 10 kilomètres en 45 minutes, puis si vous parcourez 10 kilomètres en 43 minutes et 30 secondes.\n",
        "\n",
        "Affichez le résultat à l’écran.Ensuite, convertissez ces mêmes vitesses en miles par heure. Pour rappel, 1,61 km = 1 mile."
      ],
      "metadata": {
        "id": "FluF-EX5eFMP"
      }
    },
    {
      "cell_type": "code",
      "source": [
        "d = 10\n",
        "t = 45\n",
        "x  = d / t * 60\n",
        "print(x)\n",
        "\n",
        "\n",
        "d = 10\n",
        "t = 43.5\n",
        "x  = d / t * 60\n",
        "print(x)"
      ],
      "metadata": {
        "colab": {
          "base_uri": "https://localhost:8080/"
        },
        "id": "PS-OtjKeeEbz",
        "outputId": "3bc8bbca-d4b2-41b4-a281-0d794d2e9041"
      },
      "execution_count": null,
      "outputs": [
        {
          "output_type": "stream",
          "name": "stdout",
          "text": [
            "13.333333333333332\n",
            "13.793103448275861\n"
          ]
        }
      ]
    },
    {
      "cell_type": "markdown",
      "source": [
        "## Exercice 1.8\n",
        "\n",
        "L’édition complète de la série «Les contes de Chuck Norris» est composée de 3486 volumes (numérotés de 1 à 3486) et se trouve dans ses armoires numérotées dans l’ordre.\n",
        "\n",
        "Si chaque armoire peut contenir au plus 89 livres, dans laquelle se trouve le volume numéro 1024 ? Dans quelle armoire se trouverait le volume 404 si chacune pouvait contenir 91 livres ?"
      ],
      "metadata": {
        "id": "tXfOc9sjeFbE"
      }
    },
    {
      "cell_type": "code",
      "source": [
        "livres_par_armoire = 89\n",
        "\n",
        "livre_a_trouver = 1024\n",
        "\n",
        "print(livre_a_trouver//livres_par_armoire)"
      ],
      "metadata": {
        "colab": {
          "base_uri": "https://localhost:8080/"
        },
        "id": "ksZrXUmgeFAh",
        "outputId": "52325d36-3388-469d-e5a9-ff39543ec922"
      },
      "execution_count": null,
      "outputs": [
        {
          "output_type": "stream",
          "name": "stdout",
          "text": [
            "11\n"
          ]
        }
      ]
    },
    {
      "cell_type": "markdown",
      "source": [
        "---\n"
      ],
      "metadata": {
        "id": "moh6r_kLgSVa"
      }
    },
    {
      "cell_type": "markdown",
      "source": [
        "##<u> **TP 2** <u/> (24/09)\n",
        "\n",
        "\n",
        "\n",
        "\n",
        "\n",
        "\n"
      ],
      "metadata": {
        "id": "MVPeG-R6WWAA"
      }
    },
    {
      "cell_type": "markdown",
      "source": [
        "\n",
        "\n",
        "\n",
        "# Booléens et conditions\n",
        "\n",
        "## Type booléen\n",
        "\n",
        "* Une variable booléenne peut prendre deux valeurs : `True` ou `False`.\n",
        "\n",
        "Exemple :\n",
        "\n",
        "```python\n",
        "x = True\n",
        "y = False\n",
        "```\n",
        "\n",
        "### Conversion avec `bool()`\n",
        "\n",
        "* `bool(0)` → `False`\n",
        "* `bool(n)` (si `n ≠ 0`) → `True`\n",
        "\n",
        "```python\n",
        "x = bool(10)  # True\n",
        "y = bool(0)   # False\n",
        "```\n",
        "\n",
        "## Comparaisons\n",
        "\n",
        "* Les booléens apparaissent naturellement lors de comparaisons.\n",
        "\n",
        "Exemple :\n",
        "\n",
        "```python\n",
        "x = 25\n",
        "y = 42\n",
        "z = x < y\n",
        "print(z)  # True\n",
        "```\n",
        "\n",
        "* Opérateurs disponibles : `<`, `>`, `<=`, `>=`, `==`, `!=`\n",
        "\n",
        "## Assignation vs comparaison\n",
        "\n",
        "* `=` : assignation\n",
        "* `==` : comparaison\n",
        "\n",
        "Exemple :\n",
        "\n",
        "```python\n",
        "a = 10.5\n",
        "b = 11.0\n",
        "c = a == b\n",
        "d = a = b\n",
        "\n",
        "print(c)  # False\n",
        "print(d)  # 11.0\n",
        "```\n",
        "\n",
        "## Connecteurs logiques\n",
        "\n",
        "* `and` : vrai si les deux sont vrais\n",
        "* `or` : vrai si au moins un est vrai\n",
        "* `not` : inverse le résultat\n",
        "\n",
        "Exemple :\n",
        "\n",
        "```python\n",
        "x = 25\n",
        "y = 42\n",
        "z = x < y and x > 0\n",
        "print(z)       # True\n",
        "print(not z)   # False\n",
        "```\n",
        "\n",
        "## Instruction `if`\n",
        "\n",
        "### Syntaxe\n",
        "\n",
        "```python\n",
        "if condition:\n",
        "    code_true\n",
        "```\n",
        "\n",
        "### Exemple\n",
        "\n",
        "```python\n",
        "x = int(input(\"Entrez un entier : \"))\n",
        "if x % 2 == 1:\n",
        "    print(x, \"est un nombre impair\")\n",
        "print(\"Fin du programme\")\n",
        "```\n",
        "\n",
        "## Instruction `elif`\n",
        "\n",
        "### Syntaxe\n",
        "\n",
        "```python\n",
        "if condition:\n",
        "    code_true\n",
        "elif condition2:\n",
        "    code_true2\n",
        "```\n",
        "\n",
        "### Exemple\n",
        "\n",
        "```python\n",
        "x = int(input(\"Entrez un entier : \"))\n",
        "if x == 0:\n",
        "    print(f\"x={x} est nul\")\n",
        "elif x % 2 == 0:\n",
        "    print(f\"x={x} est un nombre pair\")\n",
        "```\n",
        "\n",
        "## Instruction `else`\n",
        "\n",
        "### Syntaxe\n",
        "\n",
        "```python\n",
        "if condition1:\n",
        "    code1\n",
        "elif condition2:   # facultatif\n",
        "    code2\n",
        "else:\n",
        "    code_else\n",
        "```\n",
        "\n",
        "### Exemple\n",
        "\n",
        "```python\n",
        "x = int(input(\"Encoder un entier : \"))\n",
        "if x == 0:\n",
        "    print(x, \"est égal à 0\")\n",
        "elif x < 0:\n",
        "    print(x, \"est inférieur à 0\")\n",
        "else:\n",
        "    print(x, \"est supérieur à 0\")\n",
        "```\n",
        "\n",
        "---\n",
        "\n"
      ],
      "metadata": {
        "id": "WrAYw63MVXfG"
      }
    },
    {
      "cell_type": "markdown",
      "source": [
        "\n",
        "#Exercices"
      ],
      "metadata": {
        "id": "-WdJCDiFWr48"
      }
    },
    {
      "cell_type": "markdown",
      "source": [
        "## Exercice 2.1\n",
        "\n",
        "Écrivez un programme qui lit deux nombres au clavier avec input, les transforme en entier avec int et qui affiche leur somme. Si la somme des deux nombres est 0, le programme affiche le message “Un parfait équilibre !”"
      ],
      "metadata": {
        "id": "SDKST_c8WxNV"
      }
    },
    {
      "cell_type": "code",
      "source": [
        "a = int(input(\"Entrer un premier nombre : \"))\n",
        "b = int(input(\"Entrer un deuxieme nombre : \"))\n",
        "\n",
        "sum = a + b\n",
        "print(sum)\n",
        "\n",
        "if sum == 0:\n",
        "    print(\"Un parfait equilibre\")"
      ],
      "metadata": {
        "id": "dtv21bjMXDNi"
      },
      "execution_count": null,
      "outputs": []
    },
    {
      "cell_type": "markdown",
      "source": [
        "## Exercice 2.2\n",
        "\n",
        "Écrivez un programme qui lit 3 nombres entiers. Si au moins deux nombres d’entre eux ont la même valeur, le programme affiche cette valeur. Le programme n’imprime rien dans le cas contraire."
      ],
      "metadata": {
        "id": "cT_Y7kffXEKP"
      }
    },
    {
      "cell_type": "code",
      "source": [
        "a = int(input(\"Entrer un premier nombre : \"))\n",
        "b = int(input(\"Entrer un deuxieme nombre : \"))\n",
        "c = int(input(\"Entrer un troisieme nombre : \"))\n",
        "\n",
        "if a == b:\n",
        "    print(a)\n",
        "elif b == c:\n",
        "    print(b)\n",
        "elif a == c :\n",
        "    print(c)\n"
      ],
      "metadata": {
        "id": "oKU0LlVvXJl7"
      },
      "execution_count": null,
      "outputs": []
    },
    {
      "cell_type": "markdown",
      "source": [
        "## Exercice 2.3\n",
        "\n",
        "Écrivez un programme qui lit avec input une température sous forme de float. Ensuite, le programme affiche :\n",
        " «Tropfroid!»\n",
        " si la température est inférieure à 10°C;\n",
        " « Juste comme il faut ! » si la température est entre 10°C\n",
        "et 25°C ;\n",
        " «Tropchaud!»sinon."
      ],
      "metadata": {
        "id": "IQR1k1_vXJ7R"
      }
    },
    {
      "cell_type": "code",
      "source": [
        "temp = float(input(\"Entrer une temperature : \"))\n",
        "\n",
        "if temp < 10:\n",
        "    print(\"Trop froid\")\n",
        "elif 10 <= temp <= 25:\n",
        "    print(\"Juste comme il faut \")\n",
        "else :\n",
        "    print(\"trop chaud\")"
      ],
      "metadata": {
        "colab": {
          "base_uri": "https://localhost:8080/"
        },
        "id": "kY3dsAYfXWzE",
        "outputId": "c2382426-69f1-496d-9d4b-563e2997b9c3"
      },
      "execution_count": null,
      "outputs": [
        {
          "output_type": "stream",
          "name": "stdout",
          "text": [
            "Entrer une temperature : 12\n",
            "Juste comme il faut \n"
          ]
        }
      ]
    },
    {
      "cell_type": "markdown",
      "source": [
        "## Exercice 2.4\n",
        "\n",
        " Écrivez un programme qui teste la parité d’un nombre entier lu sur input et imprime True si le nombre est pair, False dans le cas contraire.\n",
        "\n"
      ],
      "metadata": {
        "id": "cx954gq_XXMD"
      }
    },
    {
      "cell_type": "code",
      "source": [
        "a = int(input(\"Entrer un nombre \"))\n",
        "\n",
        "if a % 2 == 1:\n",
        "    print(False)\n",
        "else:\n",
        "    print(True)"
      ],
      "metadata": {
        "id": "P0WbKpVWXheu"
      },
      "execution_count": null,
      "outputs": []
    },
    {
      "cell_type": "markdown",
      "source": [
        "## Exercice 2.5\n",
        "\n",
        "Écrivez un programme qui lit deux entiers strictement positifs a et b sur input.\n",
        "Si b n’est pas un multiple de a,\n",
        "et a n’est pas un multiple de b\n",
        "alors le programma affiche\n",
        "a et b sont premiers entre eux.Danslecasoùaoubest négatif, le programme affiche un message d’erreur."
      ],
      "metadata": {
        "id": "OV8BL9VlXiKc"
      }
    },
    {
      "cell_type": "code",
      "source": [
        "a = int(input(\" Entrer un nombre :\"))\n",
        "b = int(input(\" Entrer un nombre :\"))\n",
        "\n",
        "if a <= 0 or  b <= 0:\n",
        "    print(\"erreur\")\n",
        "elif a % b != 0 and b % a != 0:\n",
        "    print(f\"{a} et {b} sont premier entre eux\")\n"
      ],
      "metadata": {
        "id": "CQTmQRkeXvIw"
      },
      "execution_count": null,
      "outputs": []
    },
    {
      "cell_type": "markdown",
      "source": [
        "---"
      ],
      "metadata": {
        "id": "JhHjBIecYKBw"
      }
    },
    {
      "cell_type": "markdown",
      "source": [
        "##<u> **TP 3** <u/> (30/09)"
      ],
      "metadata": {
        "id": "p1wy0GNEYLX8"
      }
    },
    {
      "cell_type": "markdown",
      "source": [
        "\n",
        "\n",
        "\n",
        "# Boucle `while`\n",
        "\n",
        "## Définition\n",
        "\n",
        "* Permet de répéter un bloc d’instructions **tant qu’une condition est vraie**.\n",
        "\n",
        "### Syntaxe\n",
        "\n",
        "```python\n",
        "while condition:\n",
        "    instructions\n",
        "```\n",
        "\n",
        "## Exemple\n",
        "\n",
        "```python\n",
        "i = 0\n",
        "while i < 10:\n",
        "    print(i)\n",
        "    i += 1\n",
        "\n",
        "print(\"Valeur finale de i:\", i)\n",
        "```\n",
        "\n",
        "* Affiche les entiers de `0` à `9`, puis la valeur finale `i = 10`.\n",
        "\n",
        "## Remarques\n",
        "\n",
        "* On **ne sait pas toujours à l’avance** combien de fois la boucle va s’exécuter.\n",
        "* La boucle continue tant que la condition est vraie.\n",
        "* ⚠️ Si la condition ne devient jamais fausse → boucle infinie.\n",
        "* Les instructions à l’intérieur de la boucle doivent être **indentées** par rapport à la condition.\n",
        "\n",
        "## Exercice\n",
        "\n",
        "Que fait ce code ?\n",
        "\n",
        "```python\n",
        "a = 1\n",
        "while a <= 5:\n",
        "    print(a, end=' ')\n",
        "    a += 1\n",
        "print(a)\n",
        "```\n",
        "\n",
        "* Résultat : `1 2 3 4 5 6`\n",
        "\n",
        "  * La boucle affiche les nombres de `1` à `5` sur une même ligne.\n",
        "  * Ensuite, elle affiche la valeur finale de `a` qui vaut `6`.\n",
        "\n",
        "---\n",
        "\n"
      ],
      "metadata": {
        "id": "KQLlezevYmEd"
      }
    },
    {
      "cell_type": "markdown",
      "source": [
        "## Exercices"
      ],
      "metadata": {
        "id": "z-nrN_mIYjv5"
      }
    },
    {
      "cell_type": "markdown",
      "source": [
        "## Exercices 2.6\n",
        "\n",
        "Que fait cette suite d’instructions ?\n",
        "```python\n",
        "a=1\n",
        "while a <= 5:\n",
        "  print(a, end=’ ’)\n",
        "  a += 1\n",
        "print(a)\n",
        "```"
      ],
      "metadata": {
        "id": "jnkJNvIeZCvz"
      }
    },
    {
      "cell_type": "code",
      "source": [
        "a=1\n",
        "while a <= 5:\n",
        "    print(a, end=' ')\n",
        "    a += 1\n",
        "    print(a)\n"
      ],
      "metadata": {
        "id": "KAhxxWEjZiEI"
      },
      "execution_count": null,
      "outputs": []
    },
    {
      "cell_type": "markdown",
      "source": [
        "## Exercice 2.7\n",
        "\n",
        "Écrivez un programme dans lequel vous définissez arbitrairement un code secret dans la constante 1 PASSWORD. Le programme demande d’entrer un mot de passe et continue de le demander jusqu’à ce qu’il soit correct. Le programme affiche un message d’erreur à chaque fois que le mot de passe ne correspond pas.\n",
        "\n",
        "Variante : faites en sorte que l’on ne puisse entrer le mot de passe que trois fois. Si le mot de passe est encore incorrect après trois essais, le programme affiche un message d’erreur et se termine."
      ],
      "metadata": {
        "id": "YSktvsV2ZpuC"
      }
    },
    {
      "cell_type": "code",
      "source": [
        "PASSWORD = \"joel\"\n",
        "\n",
        "for i in range(3,0,-1):\n",
        "    user_choice = input(\"Entrer un mot de passe :\")\n",
        "    if user_choice == PASSWORD:\n",
        "        print(f\"vous avez trouver le mot de passe : {PASSWORD}\")\n",
        "    else:\n",
        "        print(f\"Reesayez\\nil vous reste {i-1} essais \\nINDICE : la longueur du mot de passe est: {len(PASSWORD)}\")\n"
      ],
      "metadata": {
        "id": "FgXvrdIEZt-u"
      },
      "execution_count": null,
      "outputs": []
    },
    {
      "cell_type": "markdown",
      "source": [
        "## Exercice 2.8\n",
        "\n",
        "Écrivez un programme qui lit avec input un nombre entier positif n, et qui calcule la somme de tous les entiers de 1 à n inclus, puis affiche celle-ci.\n",
        "Si le nombre entré est négatif, le programme doit afficher un message d’erreur et s’arrêter. Vous pouvez utiliser la fonction exit pour arrêter le programme immédiatement."
      ],
      "metadata": {
        "id": "5cYJqN5wZ3lY"
      }
    },
    {
      "cell_type": "code",
      "source": [
        "n = int(input(\"Entrer un entier:\"))\n",
        "\n",
        "add = 0\n",
        "\n",
        "if n >= 0:\n",
        "    for i in range(n+1):\n",
        "        add += i\n",
        "    print(add)\n",
        "else:\n",
        "    exit()"
      ],
      "metadata": {
        "id": "DC5IoXaJZ6Ip"
      },
      "execution_count": null,
      "outputs": []
    },
    {
      "cell_type": "markdown",
      "source": [
        "## Exercice 2.10\n",
        "\n",
        "Écrivez un programme qui initialise les points de vie d’une plante carnivore à 100 puis qui vous demande répétitivement de vous en occuper en affichant son état de santé puis en vous demandant ce que vous voulez lui donner à manger sur le clavier. Si la valeur lue sur le clavier est\n",
        "\"mouche\", la plante gagne +10 points de vie,\n",
        "\"eau\", la plante gagne +1 point de vie,\n",
        "\"steak\", la plante gagne +100 points de vie.\n",
        "toute autre valeur, la plante perd 50 points de vie.\n",
        "Le programme se termine si votre plante meurt (points de vie ≤ 0) ou si celle-ci vous mange ! La plante carnivore vous dévorre si ses points de vie sont supérieurs à 200.\n"
      ],
      "metadata": {
        "id": "J9TCt87FaA0m"
      }
    },
    {
      "cell_type": "code",
      "source": [
        "vie = 100\n",
        "is_running = True\n",
        "print(\"Bienvenue!\")\n",
        "while is_running:\n",
        "    print(\"===MENU===\\n 1.Mouche, 2.Eau, 3.Steak\")\n",
        "    choice = input(\"Que voulez vous donnez a manger a votre plante: \")\n",
        "    match choice :\n",
        "        case 1 :\n",
        "            vie += 10\n",
        "        case 2 :\n",
        "            vie += 1\n",
        "        case 3 :\n",
        "            vie += 100\n",
        "        case _:\n",
        "            vie -= 50\n",
        "    print(f\"Votre plante a: {vie} PV\\n==========\")\n",
        "    if vie > 200 or vie <= 0:\n",
        "        is_running = False\n",
        "\n",
        "print(\"votre plante est morte\")\n"
      ],
      "metadata": {
        "id": "06E90H68aAYu"
      },
      "execution_count": null,
      "outputs": []
    },
    {
      "cell_type": "markdown",
      "source": [
        "##Exercice 2.9\n",
        "\n",
        "Ecrivez un programme dans lequel un utilisateur doit deviner un nombre secret entre 1 et 100 stocké dans la constante NOMBRE_SECRET.\n",
        "\n",
        "Le programme demande de deviner le nombre et indique après chaque essai si le nombre entré sur input était trop petit, trop grand ou si le nombre a été trouvé."
      ],
      "metadata": {
        "id": "2fxzjdW9aVEk"
      }
    },
    {
      "cell_type": "code",
      "source": [
        "import random\n",
        "\n",
        "NOMBRE_SECRET = random.randint(1,100)\n",
        "\n",
        "while True:\n",
        "    choice = int(input(\"Entrer un nombre (1-100): \"))\n",
        "    if choice == NOMBRE_SECRET:\n",
        "        print(f\"c'est correct le nombre etait: {NOMBRE_SECRET}\")\n",
        "        break\n",
        "    elif choice < NOMBRE_SECRET:\n",
        "        print(\"Plus grand !\")\n",
        "    elif choice > NOMBRE_SECRET:\n",
        "        print(\"Plus petit !\")"
      ],
      "metadata": {
        "colab": {
          "base_uri": "https://localhost:8080/"
        },
        "id": "D-bzN5Psaaf9",
        "outputId": "61a14933-c132-4e53-9b24-6e9969e8af4d"
      },
      "execution_count": null,
      "outputs": [
        {
          "output_type": "stream",
          "name": "stdout",
          "text": [
            "Entrer un nombre (1-100): 55\n",
            "Plus petit !\n",
            "Entrer un nombre (1-100): 44\n",
            "Plus grand !\n",
            "Entrer un nombre (1-100): 50\n",
            "Plus grand !\n",
            "Entrer un nombre (1-100): 54\n",
            "Plus petit !\n",
            "Entrer un nombre (1-100): 53\n",
            "Plus petit !\n",
            "Entrer un nombre (1-100): 52\n",
            "c'est correct le nombre etait: 52\n"
          ]
        }
      ]
    },
    {
      "cell_type": "markdown",
      "source": [
        "## Exercice 2.11\n",
        "\n",
        "Une suite de Syracuse u0,u1,...,un est une suite de nombres\n",
        "telle que :\n",
        "u0 ∈ 􏰀+ est un entier naturel positif donné 􏰁 un si un est pair un+1 = 2\n",
        "3un + 1 si un est impair\n",
        "\n",
        "La conjecture de Syracuse est une conjecture mathématique qui n’a pas encore été prouvée. Cette conjecture stipule que pour tout u0, la suite de Syracuse converge toujours vers 1.\n",
        "\n",
        "Écrivez un programme qui lit un entier naturel u0 sur input et qui affiche les termes de la suite de Syracuse jusqu’à arriver à 1.\n",
        "   "
      ],
      "metadata": {
        "id": "HAiPKOyGaiPG"
      }
    },
    {
      "cell_type": "code",
      "source": [
        "n = int(input(\"entrer un chiffre:\"))\n",
        "while n != 1:\n",
        "    print(n)\n",
        "    if n % 2 == 0:\n",
        "        n = n / 2\n",
        "    else:\n",
        "        n = n * 3 + 1\n",
        "print(n)"
      ],
      "metadata": {
        "id": "qyUS8uuMattw"
      },
      "execution_count": null,
      "outputs": []
    }
  ]
}